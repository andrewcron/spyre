{
 "cells": [
  {
   "cell_type": "code",
   "execution_count": 4,
   "metadata": {
    "collapsed": false
   },
   "outputs": [],
   "source": [
    "# %load stocks_w_plotly_example.py\n",
    "# tested with python2.7 and 3.4\n",
    "from spyre import server\n",
    "\n",
    "import pandas as pd\n",
    "import matplotlib.pyplot as plt\n",
    "from matplotlib.dates import DateFormatter\n",
    "import json\n",
    "from datetime import datetime\n",
    "try:\n",
    "\timport urllib2\n",
    "except ImportError:\n",
    "\timport urllib.request as urllib2\n",
    "\n",
    "from plotly.offline import offline\n",
    "import plotly.graph_objs as go\n",
    "\n",
    "class StocksWithPlotly(server.App):\n",
    "\ttitle = \"Historical Stock Prices\"\n",
    "\n",
    "\tinputs = [{\t\"type\":'dropdown',\n",
    "\t\t\t\t\"label\": 'Company', \n",
    "\t\t\t\t\"options\" : [\n",
    "\t\t\t\t\t{\"label\": \"Choose A Company\", \"value\":\"empty\"},\n",
    "\t\t\t\t\t{\"label\": \"Google\", \"value\":\"GOOG\", \"checked\":True},\n",
    "\t\t\t\t\t{\"label\": \"Yahoo\", \"value\":\"YHOO\"},\n",
    "\t\t\t\t\t{\"label\": \"Apple\", \"value\":\"AAPL\"}],\n",
    "\t\t\t\t\"key\": 'ticker', \n",
    "\t\t\t\t\"action_id\": \"update_data\",\n",
    "\t\t\t\t\"linked_key\":'custom_ticker',\n",
    "\t\t\t\t\"linked_type\":'text',\n",
    "\t\t\t},\n",
    "\t\t\t{\t\"type\":'text',\n",
    "\t\t\t\t\"label\": 'or enter a ticker symbol', \n",
    "\t\t\t\t\"key\": 'custom_ticker', \n",
    "\t\t\t\t\"action_id\": \"update_data\",\n",
    "\t\t\t\t\"linked_key\":'ticker',\n",
    "\t\t\t\t\"linked_type\":'dropdown',\n",
    "\t\t\t\t\"linked_value\":'empty' }]\n",
    "\n",
    "\tcontrols = [{\"type\" : \"hidden\",\n",
    "\t\t\t\t\t\"label\" : \"get historical stock prices\",\n",
    "\t\t\t\t\t\"id\" : \"update_data\" \n",
    "\t\t\t\t}]\n",
    "\n",
    "\toutputs = [{\"type\" : \"plot\",\n",
    "\t\t\t\t\t\"id\" : \"plot\",\n",
    "\t\t\t\t\t\"control_id\" : \"update_data\",\n",
    "\t\t\t\t\t\"tab\" : \"Plot\"},\n",
    "\t\t\t\t{\"type\" : \"table\",\n",
    "\t\t\t\t\t\"id\" : \"table_id\",\n",
    "\t\t\t\t\t\"control_id\" : \"update_data\",\n",
    "\t\t\t\t\t\"tab\" : \"Table\",\n",
    "\t\t\t\t\t\"sortable\":True},\n",
    "\t\t\t\t{\"type\" : \"html\",\n",
    "\t\t\t\t\t\"id\" : \"html_id\",\n",
    "\t\t\t\t\t\"control_id\" : \"update_data\",\n",
    "\t\t\t\t\t\"tab\" : \"Plotly\"}]\n",
    "\n",
    "\ttabs = [\"Plot\", \"Table\", \"Plotly\"]\n",
    "\n",
    "\tdef getData(self, params):\n",
    "\t\tticker = params['ticker']\n",
    "\t\tif ticker=='empty':\n",
    "\t\t\t\tticker=params['custom_ticker']\n",
    "\t\t# make call to yahoo finance api to get historical stock data\n",
    "\t\tapi_url = 'https://chartapi.finance.yahoo.com/instrument/1.0/{}/chartdata;type=quote;range=3m/json'.format(ticker)\n",
    "\t\tresult = urllib2.urlopen(api_url).read()\n",
    "\t\tdata = json.loads(result.decode('utf-8').replace('finance_charts_json_callback( ','')[:-1])  # strip away the javascript and load json\n",
    "\t\tself.company_name = data['meta']['Company-Name']\n",
    "\t\tdf = pd.DataFrame.from_records(data['series'])\n",
    "\t\tdf['Date'] = pd.to_datetime(df['Date'],format='%Y%m%d')\n",
    "\t\treturn df\n",
    "\n",
    "\tdef getPlot(self, params):\n",
    "\t\tdf = self.getData(params)\n",
    "\t\tplt_obj = df.set_index('Date').drop(['volume'],axis=1).plot()\n",
    "\t\tplt_obj.set_ylabel(\"Price\")\n",
    "\t\tplt_obj.set_title(self.company_name)\n",
    "\t\tfig = plt_obj.get_figure()\n",
    "\t\treturn fig\n",
    "\n",
    "\tdef getHTML(self,params):\n",
    "\t\tdf = self.getData(params)  # get data\n",
    "\t\t## create plotly chart data\n",
    "\t\tdata = [\n",
    "\t\t\tgo.Scatter(\n",
    "\t\t\t\tx=df['Date'],\n",
    "\t\t\t\ty=df['close'],\n",
    "\t\t\t\tname='Close'\n",
    "\t\t\t\t),\n",
    "\t\t\tgo.Scatter(\n",
    "\t\t\t\tx=df['Date'],\n",
    "\t\t\t\ty=df['high'],\n",
    "\t\t\t\tname='High'\n",
    "\t\t\t\t),\n",
    "\t\t\tgo.Scatter(\n",
    "\t\t\t\tx=df['Date'],\n",
    "\t\t\t\ty=df['low'],\n",
    "\t\t\t\tname='Low'\n",
    "\t\t\t\t)\n",
    "\t\t\t]\n",
    "\t\t## create plotly layout\n",
    "\t\tlayout = go.Layout(\n",
    "\t\t\tautosize=False,\n",
    "\t\t\twidth=700, height=500,\n",
    "\t\t\ttitle='{} Price'.format(self.company_name)\n",
    "\t\t\t)\n",
    "\t\t## create the figure\n",
    "\t\tfig = go.Figure(data=data, layout=layout)\n",
    "\t\t## generate the html\n",
    "\t\thtml = offline.plot(fig, show_link=False, output_type='div', include_plotlyjs=False)\n",
    "\t\treturn html\n",
    "\n",
    "\tdef getCustomJS(self):\n",
    "\t\t## bolt on plotly library\n",
    "\t\treturn offline.get_plotlyjs()\n",
    "\n",
    "#if __name__ == '__main__':\n",
    "#\tml = StocksWithPlotly()\n",
    "#\tml.launch(port=9097)\n"
   ]
  },
  {
   "cell_type": "code",
   "execution_count": 5,
   "metadata": {
    "collapsed": false,
    "scrolled": false
   },
   "outputs": [
    {
     "name": "stdout",
     "output_type": "stream",
     "text": [
      "Starting job # 0 in a separate thread.\n"
     ]
    },
    {
     "data": {
      "text/html": [
       "<iframe src=http://localhost:9097 width=950 height=700></iframe>"
      ],
      "text/plain": [
       "<IPython.core.display.HTML object>"
      ]
     },
     "execution_count": 5,
     "metadata": {},
     "output_type": "execute_result"
    },
    {
     "name": "stderr",
     "output_type": "stream",
     "text": [
      "[23/May/2016:16:50:50] ENGINE Bus STARTING\n",
      "CherryPy Checker:\n",
      "The Application mounted at '' has an empty config.\n",
      "\n",
      "[23/May/2016:16:50:50] ENGINE Monitor thread '_TimeoutMonitor' already started.\n",
      "[23/May/2016:16:50:50] ENGINE Monitor thread 'Autoreloader' already started.\n",
      "[23/May/2016:16:50:50] ENGINE Already serving on http://127.0.0.1:9097\n",
      "[23/May/2016:16:50:50] ENGINE Bus STARTED\n"
     ]
    },
    {
     "name": "stdout",
     "output_type": "stream",
     "text": [
      "127.0.0.1 - - [23/May/2016:16:50:51] \"GET / HTTP/1.1\" 200 1645131 \"http://localhost:8081/notebooks/dev/spyre/examples/PlotlySpyreNotebook.ipynb\" \"Mozilla/5.0 (Macintosh; Intel Mac OS X 10_10_5) AppleWebKit/601.6.17 (KHTML, like Gecko) Version/9.1.1 Safari/601.6.17\"\n",
      "127.0.0.1 - - [23/May/2016:16:50:52] \"GET /spinning_wheel HTTP/1.1\" 200 2663 \"http://localhost:9097/\" \"Mozilla/5.0 (Macintosh; Intel Mac OS X 10_10_5) AppleWebKit/601.6.17 (KHTML, like Gecko) Version/9.1.1 Safari/601.6.17\"\n",
      "127.0.0.1 - - [23/May/2016:16:50:53] \"GET /html?ticker=GOOG&custom_ticker=&output_id=html_id& HTTP/1.1\" 200 4715 \"http://localhost:9097/\" \"Mozilla/5.0 (Macintosh; Intel Mac OS X 10_10_5) AppleWebKit/601.6.17 (KHTML, like Gecko) Version/9.1.1 Safari/601.6.17\"\n",
      "127.0.0.1 - - [23/May/2016:16:50:53] \"GET /table?ticker=GOOG&custom_ticker=&output_id=table_id& HTTP/1.1\" 200 10467 \"http://localhost:9097/\" \"Mozilla/5.0 (Macintosh; Intel Mac OS X 10_10_5) AppleWebKit/601.6.17 (KHTML, like Gecko) Version/9.1.1 Safari/601.6.17\"\n",
      "Error: getPlot method must return an pyplot figure or matplotlib Axes object\n",
      "127.0.0.1 - - [23/May/2016:16:50:53] \"GET /plot?ticker=GOOG&custom_ticker=&output_id=plot& HTTP/1.1\" 200 96319 \"http://localhost:9097/\" \"Mozilla/5.0 (Macintosh; Intel Mac OS X 10_10_5) AppleWebKit/601.6.17 (KHTML, like Gecko) Version/9.1.1 Safari/601.6.17\"\n"
     ]
    }
   ],
   "source": [
    "app = StocksWithPlotly()\n",
    "app.launch_in_notebook(port=9097, width=950, height=700)"
   ]
  },
  {
   "cell_type": "code",
   "execution_count": null,
   "metadata": {
    "collapsed": true
   },
   "outputs": [],
   "source": []
  }
 ],
 "metadata": {
  "kernelspec": {
   "display_name": "Python 3",
   "language": "python",
   "name": "python3"
  },
  "language_info": {
   "codemirror_mode": {
    "name": "ipython",
    "version": 3
   },
   "file_extension": ".py",
   "mimetype": "text/x-python",
   "name": "python",
   "nbconvert_exporter": "python",
   "pygments_lexer": "ipython3",
   "version": "3.5.1"
  }
 },
 "nbformat": 4,
 "nbformat_minor": 0
}
